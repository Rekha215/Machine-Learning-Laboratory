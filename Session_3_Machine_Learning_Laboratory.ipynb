{
  "nbformat": 4,
  "nbformat_minor": 0,
  "metadata": {
    "colab": {
      "provenance": []
    },
    "kernelspec": {
      "name": "python3",
      "display_name": "Python 3"
    },
    "language_info": {
      "name": "python"
    }
  },
  "cells": [
    {
      "cell_type": "markdown",
      "source": [
        "# **Linear Regression**"
      ],
      "metadata": {
        "id": "H4EIDMzYb2Dw"
      }
    },
    {
      "cell_type": "markdown",
      "source": [
        "### **Session Outline**\n",
        "1. Load the California Housing Dataset\n",
        "2. Data Analysis and Preprocessing - data statistics, correlation matrix, feature scaling (normalization).\n",
        "3. Split Data into Training, Validation, and Test Sets\n",
        "4. Implement Linear Regression from Scratch Using Gradient Descent\n",
        "5. Perform Linear Regression Using the Least Squares Method (Normal Equation)\n",
        "6. Fit a Linear Regression Model Using Scikit-learn\n",
        "7. Illustrate Overfitting and Underfitting\n"
      ],
      "metadata": {
        "id": "WX6Q17BDa6FI"
      }
    },
    {
      "cell_type": "code",
      "execution_count": 1,
      "metadata": {
        "id": "u6y_cJ1jT1Bw"
      },
      "outputs": [],
      "source": [
        "import numpy as np\n",
        "import pandas as pd\n",
        "import matplotlib.pyplot as plt\n",
        "import seaborn as sns\n",
        "from sklearn.datasets import fetch_california_housing\n",
        "from sklearn.preprocessing import StandardScaler, MinMaxScaler\n",
        "from sklearn.model_selection import train_test_split\n",
        "from sklearn.linear_model import LinearRegression\n",
        "from sklearn.metrics import mean_squared_error\n",
        "from sklearn.preprocessing import PolynomialFeatures\n",
        "from numpy.linalg import inv"
      ]
    },
    {
      "cell_type": "code",
      "source": [
        "# Load dataset\n",
        "data = fetch_california_housing()\n",
        "X = data.data\n",
        "y = data.target\n",
        "X.shape"
      ],
      "metadata": {
        "colab": {
          "base_uri": "https://localhost:8080/"
        },
        "id": "8iV1aTHwT5Ri",
        "outputId": "5eaf2f90-2395-44b1-8a3b-65f309f927a9"
      },
      "execution_count": 2,
      "outputs": [
        {
          "output_type": "execute_result",
          "data": {
            "text/plain": [
              "(20640, 8)"
            ]
          },
          "metadata": {},
          "execution_count": 2
        }
      ]
    },
    {
      "cell_type": "code",
      "source": [
        "# Convert to DataFrame for easier analysis\n",
        "df = pd.DataFrame(X, columns=data.feature_names)\n",
        "df['Target'] = y"
      ],
      "metadata": {
        "id": "rFukWQVAT6gt"
      },
      "execution_count": 3,
      "outputs": []
    },
    {
      "cell_type": "code",
      "source": [
        "# Summary statistics\n",
        "df.describe()"
      ],
      "metadata": {
        "colab": {
          "base_uri": "https://localhost:8080/",
          "height": 300
        },
        "id": "AS6ZjnimT_xP",
        "outputId": "dfb757dc-68a1-42ef-a7dc-13a9f74b29a3"
      },
      "execution_count": 4,
      "outputs": [
        {
          "output_type": "execute_result",
          "data": {
            "text/plain": [
              "             MedInc      HouseAge      AveRooms     AveBedrms    Population  \\\n",
              "count  20640.000000  20640.000000  20640.000000  20640.000000  20640.000000   \n",
              "mean       3.870671     28.639486      5.429000      1.096675   1425.476744   \n",
              "std        1.899822     12.585558      2.474173      0.473911   1132.462122   \n",
              "min        0.499900      1.000000      0.846154      0.333333      3.000000   \n",
              "25%        2.563400     18.000000      4.440716      1.006079    787.000000   \n",
              "50%        3.534800     29.000000      5.229129      1.048780   1166.000000   \n",
              "75%        4.743250     37.000000      6.052381      1.099526   1725.000000   \n",
              "max       15.000100     52.000000    141.909091     34.066667  35682.000000   \n",
              "\n",
              "           AveOccup      Latitude     Longitude        Target  \n",
              "count  20640.000000  20640.000000  20640.000000  20640.000000  \n",
              "mean       3.070655     35.631861   -119.569704      2.068558  \n",
              "std       10.386050      2.135952      2.003532      1.153956  \n",
              "min        0.692308     32.540000   -124.350000      0.149990  \n",
              "25%        2.429741     33.930000   -121.800000      1.196000  \n",
              "50%        2.818116     34.260000   -118.490000      1.797000  \n",
              "75%        3.282261     37.710000   -118.010000      2.647250  \n",
              "max     1243.333333     41.950000   -114.310000      5.000010  "
            ],
            "text/html": [
              "\n",
              "  <div id=\"df-ba1d0616-66b7-486f-a5da-7cf6434d9d0c\" class=\"colab-df-container\">\n",
              "    <div>\n",
              "<style scoped>\n",
              "    .dataframe tbody tr th:only-of-type {\n",
              "        vertical-align: middle;\n",
              "    }\n",
              "\n",
              "    .dataframe tbody tr th {\n",
              "        vertical-align: top;\n",
              "    }\n",
              "\n",
              "    .dataframe thead th {\n",
              "        text-align: right;\n",
              "    }\n",
              "</style>\n",
              "<table border=\"1\" class=\"dataframe\">\n",
              "  <thead>\n",
              "    <tr style=\"text-align: right;\">\n",
              "      <th></th>\n",
              "      <th>MedInc</th>\n",
              "      <th>HouseAge</th>\n",
              "      <th>AveRooms</th>\n",
              "      <th>AveBedrms</th>\n",
              "      <th>Population</th>\n",
              "      <th>AveOccup</th>\n",
              "      <th>Latitude</th>\n",
              "      <th>Longitude</th>\n",
              "      <th>Target</th>\n",
              "    </tr>\n",
              "  </thead>\n",
              "  <tbody>\n",
              "    <tr>\n",
              "      <th>count</th>\n",
              "      <td>20640.000000</td>\n",
              "      <td>20640.000000</td>\n",
              "      <td>20640.000000</td>\n",
              "      <td>20640.000000</td>\n",
              "      <td>20640.000000</td>\n",
              "      <td>20640.000000</td>\n",
              "      <td>20640.000000</td>\n",
              "      <td>20640.000000</td>\n",
              "      <td>20640.000000</td>\n",
              "    </tr>\n",
              "    <tr>\n",
              "      <th>mean</th>\n",
              "      <td>3.870671</td>\n",
              "      <td>28.639486</td>\n",
              "      <td>5.429000</td>\n",
              "      <td>1.096675</td>\n",
              "      <td>1425.476744</td>\n",
              "      <td>3.070655</td>\n",
              "      <td>35.631861</td>\n",
              "      <td>-119.569704</td>\n",
              "      <td>2.068558</td>\n",
              "    </tr>\n",
              "    <tr>\n",
              "      <th>std</th>\n",
              "      <td>1.899822</td>\n",
              "      <td>12.585558</td>\n",
              "      <td>2.474173</td>\n",
              "      <td>0.473911</td>\n",
              "      <td>1132.462122</td>\n",
              "      <td>10.386050</td>\n",
              "      <td>2.135952</td>\n",
              "      <td>2.003532</td>\n",
              "      <td>1.153956</td>\n",
              "    </tr>\n",
              "    <tr>\n",
              "      <th>min</th>\n",
              "      <td>0.499900</td>\n",
              "      <td>1.000000</td>\n",
              "      <td>0.846154</td>\n",
              "      <td>0.333333</td>\n",
              "      <td>3.000000</td>\n",
              "      <td>0.692308</td>\n",
              "      <td>32.540000</td>\n",
              "      <td>-124.350000</td>\n",
              "      <td>0.149990</td>\n",
              "    </tr>\n",
              "    <tr>\n",
              "      <th>25%</th>\n",
              "      <td>2.563400</td>\n",
              "      <td>18.000000</td>\n",
              "      <td>4.440716</td>\n",
              "      <td>1.006079</td>\n",
              "      <td>787.000000</td>\n",
              "      <td>2.429741</td>\n",
              "      <td>33.930000</td>\n",
              "      <td>-121.800000</td>\n",
              "      <td>1.196000</td>\n",
              "    </tr>\n",
              "    <tr>\n",
              "      <th>50%</th>\n",
              "      <td>3.534800</td>\n",
              "      <td>29.000000</td>\n",
              "      <td>5.229129</td>\n",
              "      <td>1.048780</td>\n",
              "      <td>1166.000000</td>\n",
              "      <td>2.818116</td>\n",
              "      <td>34.260000</td>\n",
              "      <td>-118.490000</td>\n",
              "      <td>1.797000</td>\n",
              "    </tr>\n",
              "    <tr>\n",
              "      <th>75%</th>\n",
              "      <td>4.743250</td>\n",
              "      <td>37.000000</td>\n",
              "      <td>6.052381</td>\n",
              "      <td>1.099526</td>\n",
              "      <td>1725.000000</td>\n",
              "      <td>3.282261</td>\n",
              "      <td>37.710000</td>\n",
              "      <td>-118.010000</td>\n",
              "      <td>2.647250</td>\n",
              "    </tr>\n",
              "    <tr>\n",
              "      <th>max</th>\n",
              "      <td>15.000100</td>\n",
              "      <td>52.000000</td>\n",
              "      <td>141.909091</td>\n",
              "      <td>34.066667</td>\n",
              "      <td>35682.000000</td>\n",
              "      <td>1243.333333</td>\n",
              "      <td>41.950000</td>\n",
              "      <td>-114.310000</td>\n",
              "      <td>5.000010</td>\n",
              "    </tr>\n",
              "  </tbody>\n",
              "</table>\n",
              "</div>\n",
              "    <div class=\"colab-df-buttons\">\n",
              "\n",
              "  <div class=\"colab-df-container\">\n",
              "    <button class=\"colab-df-convert\" onclick=\"convertToInteractive('df-ba1d0616-66b7-486f-a5da-7cf6434d9d0c')\"\n",
              "            title=\"Convert this dataframe to an interactive table.\"\n",
              "            style=\"display:none;\">\n",
              "\n",
              "  <svg xmlns=\"http://www.w3.org/2000/svg\" height=\"24px\" viewBox=\"0 -960 960 960\">\n",
              "    <path d=\"M120-120v-720h720v720H120Zm60-500h600v-160H180v160Zm220 220h160v-160H400v160Zm0 220h160v-160H400v160ZM180-400h160v-160H180v160Zm440 0h160v-160H620v160ZM180-180h160v-160H180v160Zm440 0h160v-160H620v160Z\"/>\n",
              "  </svg>\n",
              "    </button>\n",
              "\n",
              "  <style>\n",
              "    .colab-df-container {\n",
              "      display:flex;\n",
              "      gap: 12px;\n",
              "    }\n",
              "\n",
              "    .colab-df-convert {\n",
              "      background-color: #E8F0FE;\n",
              "      border: none;\n",
              "      border-radius: 50%;\n",
              "      cursor: pointer;\n",
              "      display: none;\n",
              "      fill: #1967D2;\n",
              "      height: 32px;\n",
              "      padding: 0 0 0 0;\n",
              "      width: 32px;\n",
              "    }\n",
              "\n",
              "    .colab-df-convert:hover {\n",
              "      background-color: #E2EBFA;\n",
              "      box-shadow: 0px 1px 2px rgba(60, 64, 67, 0.3), 0px 1px 3px 1px rgba(60, 64, 67, 0.15);\n",
              "      fill: #174EA6;\n",
              "    }\n",
              "\n",
              "    .colab-df-buttons div {\n",
              "      margin-bottom: 4px;\n",
              "    }\n",
              "\n",
              "    [theme=dark] .colab-df-convert {\n",
              "      background-color: #3B4455;\n",
              "      fill: #D2E3FC;\n",
              "    }\n",
              "\n",
              "    [theme=dark] .colab-df-convert:hover {\n",
              "      background-color: #434B5C;\n",
              "      box-shadow: 0px 1px 3px 1px rgba(0, 0, 0, 0.15);\n",
              "      filter: drop-shadow(0px 1px 2px rgba(0, 0, 0, 0.3));\n",
              "      fill: #FFFFFF;\n",
              "    }\n",
              "  </style>\n",
              "\n",
              "    <script>\n",
              "      const buttonEl =\n",
              "        document.querySelector('#df-ba1d0616-66b7-486f-a5da-7cf6434d9d0c button.colab-df-convert');\n",
              "      buttonEl.style.display =\n",
              "        google.colab.kernel.accessAllowed ? 'block' : 'none';\n",
              "\n",
              "      async function convertToInteractive(key) {\n",
              "        const element = document.querySelector('#df-ba1d0616-66b7-486f-a5da-7cf6434d9d0c');\n",
              "        const dataTable =\n",
              "          await google.colab.kernel.invokeFunction('convertToInteractive',\n",
              "                                                    [key], {});\n",
              "        if (!dataTable) return;\n",
              "\n",
              "        const docLinkHtml = 'Like what you see? Visit the ' +\n",
              "          '<a target=\"_blank\" href=https://colab.research.google.com/notebooks/data_table.ipynb>data table notebook</a>'\n",
              "          + ' to learn more about interactive tables.';\n",
              "        element.innerHTML = '';\n",
              "        dataTable['output_type'] = 'display_data';\n",
              "        await google.colab.output.renderOutput(dataTable, element);\n",
              "        const docLink = document.createElement('div');\n",
              "        docLink.innerHTML = docLinkHtml;\n",
              "        element.appendChild(docLink);\n",
              "      }\n",
              "    </script>\n",
              "  </div>\n",
              "\n",
              "\n",
              "<div id=\"df-4c376287-3901-4e5a-b12e-55cf1d0d1c29\">\n",
              "  <button class=\"colab-df-quickchart\" onclick=\"quickchart('df-4c376287-3901-4e5a-b12e-55cf1d0d1c29')\"\n",
              "            title=\"Suggest charts\"\n",
              "            style=\"display:none;\">\n",
              "\n",
              "<svg xmlns=\"http://www.w3.org/2000/svg\" height=\"24px\"viewBox=\"0 0 24 24\"\n",
              "     width=\"24px\">\n",
              "    <g>\n",
              "        <path d=\"M19 3H5c-1.1 0-2 .9-2 2v14c0 1.1.9 2 2 2h14c1.1 0 2-.9 2-2V5c0-1.1-.9-2-2-2zM9 17H7v-7h2v7zm4 0h-2V7h2v10zm4 0h-2v-4h2v4z\"/>\n",
              "    </g>\n",
              "</svg>\n",
              "  </button>\n",
              "\n",
              "<style>\n",
              "  .colab-df-quickchart {\n",
              "      --bg-color: #E8F0FE;\n",
              "      --fill-color: #1967D2;\n",
              "      --hover-bg-color: #E2EBFA;\n",
              "      --hover-fill-color: #174EA6;\n",
              "      --disabled-fill-color: #AAA;\n",
              "      --disabled-bg-color: #DDD;\n",
              "  }\n",
              "\n",
              "  [theme=dark] .colab-df-quickchart {\n",
              "      --bg-color: #3B4455;\n",
              "      --fill-color: #D2E3FC;\n",
              "      --hover-bg-color: #434B5C;\n",
              "      --hover-fill-color: #FFFFFF;\n",
              "      --disabled-bg-color: #3B4455;\n",
              "      --disabled-fill-color: #666;\n",
              "  }\n",
              "\n",
              "  .colab-df-quickchart {\n",
              "    background-color: var(--bg-color);\n",
              "    border: none;\n",
              "    border-radius: 50%;\n",
              "    cursor: pointer;\n",
              "    display: none;\n",
              "    fill: var(--fill-color);\n",
              "    height: 32px;\n",
              "    padding: 0;\n",
              "    width: 32px;\n",
              "  }\n",
              "\n",
              "  .colab-df-quickchart:hover {\n",
              "    background-color: var(--hover-bg-color);\n",
              "    box-shadow: 0 1px 2px rgba(60, 64, 67, 0.3), 0 1px 3px 1px rgba(60, 64, 67, 0.15);\n",
              "    fill: var(--button-hover-fill-color);\n",
              "  }\n",
              "\n",
              "  .colab-df-quickchart-complete:disabled,\n",
              "  .colab-df-quickchart-complete:disabled:hover {\n",
              "    background-color: var(--disabled-bg-color);\n",
              "    fill: var(--disabled-fill-color);\n",
              "    box-shadow: none;\n",
              "  }\n",
              "\n",
              "  .colab-df-spinner {\n",
              "    border: 2px solid var(--fill-color);\n",
              "    border-color: transparent;\n",
              "    border-bottom-color: var(--fill-color);\n",
              "    animation:\n",
              "      spin 1s steps(1) infinite;\n",
              "  }\n",
              "\n",
              "  @keyframes spin {\n",
              "    0% {\n",
              "      border-color: transparent;\n",
              "      border-bottom-color: var(--fill-color);\n",
              "      border-left-color: var(--fill-color);\n",
              "    }\n",
              "    20% {\n",
              "      border-color: transparent;\n",
              "      border-left-color: var(--fill-color);\n",
              "      border-top-color: var(--fill-color);\n",
              "    }\n",
              "    30% {\n",
              "      border-color: transparent;\n",
              "      border-left-color: var(--fill-color);\n",
              "      border-top-color: var(--fill-color);\n",
              "      border-right-color: var(--fill-color);\n",
              "    }\n",
              "    40% {\n",
              "      border-color: transparent;\n",
              "      border-right-color: var(--fill-color);\n",
              "      border-top-color: var(--fill-color);\n",
              "    }\n",
              "    60% {\n",
              "      border-color: transparent;\n",
              "      border-right-color: var(--fill-color);\n",
              "    }\n",
              "    80% {\n",
              "      border-color: transparent;\n",
              "      border-right-color: var(--fill-color);\n",
              "      border-bottom-color: var(--fill-color);\n",
              "    }\n",
              "    90% {\n",
              "      border-color: transparent;\n",
              "      border-bottom-color: var(--fill-color);\n",
              "    }\n",
              "  }\n",
              "</style>\n",
              "\n",
              "  <script>\n",
              "    async function quickchart(key) {\n",
              "      const quickchartButtonEl =\n",
              "        document.querySelector('#' + key + ' button');\n",
              "      quickchartButtonEl.disabled = true;  // To prevent multiple clicks.\n",
              "      quickchartButtonEl.classList.add('colab-df-spinner');\n",
              "      try {\n",
              "        const charts = await google.colab.kernel.invokeFunction(\n",
              "            'suggestCharts', [key], {});\n",
              "      } catch (error) {\n",
              "        console.error('Error during call to suggestCharts:', error);\n",
              "      }\n",
              "      quickchartButtonEl.classList.remove('colab-df-spinner');\n",
              "      quickchartButtonEl.classList.add('colab-df-quickchart-complete');\n",
              "    }\n",
              "    (() => {\n",
              "      let quickchartButtonEl =\n",
              "        document.querySelector('#df-4c376287-3901-4e5a-b12e-55cf1d0d1c29 button');\n",
              "      quickchartButtonEl.style.display =\n",
              "        google.colab.kernel.accessAllowed ? 'block' : 'none';\n",
              "    })();\n",
              "  </script>\n",
              "</div>\n",
              "\n",
              "    </div>\n",
              "  </div>\n"
            ],
            "application/vnd.google.colaboratory.intrinsic+json": {
              "type": "dataframe",
              "summary": "{\n  \"name\": \"df\",\n  \"rows\": 8,\n  \"fields\": [\n    {\n      \"column\": \"MedInc\",\n      \"properties\": {\n        \"dtype\": \"number\",\n        \"std\": 7295.7214358536385,\n        \"min\": 0.4999,\n        \"max\": 20640.0,\n        \"num_unique_values\": 8,\n        \"samples\": [\n          3.8706710029069766,\n          3.5347999999999997,\n          20640.0\n        ],\n        \"semantic_type\": \"\",\n        \"description\": \"\"\n      }\n    },\n    {\n      \"column\": \"HouseAge\",\n      \"properties\": {\n        \"dtype\": \"number\",\n        \"std\": 7288.35672120143,\n        \"min\": 1.0,\n        \"max\": 20640.0,\n        \"num_unique_values\": 8,\n        \"samples\": [\n          28.639486434108527,\n          29.0,\n          20640.0\n        ],\n        \"semantic_type\": \"\",\n        \"description\": \"\"\n      }\n    },\n    {\n      \"column\": \"AveRooms\",\n      \"properties\": {\n        \"dtype\": \"number\",\n        \"std\": 7289.098256602403,\n        \"min\": 0.8461538461538461,\n        \"max\": 20640.0,\n        \"num_unique_values\": 8,\n        \"samples\": [\n          5.428999742190376,\n          5.229128787878788,\n          20640.0\n        ],\n        \"semantic_type\": \"\",\n        \"description\": \"\"\n      }\n    },\n    {\n      \"column\": \"AveBedrms\",\n      \"properties\": {\n        \"dtype\": \"number\",\n        \"std\": 7295.375141615938,\n        \"min\": 0.3333333333333333,\n        \"max\": 20640.0,\n        \"num_unique_values\": 8,\n        \"samples\": [\n          1.096675149606208,\n          1.048780487804878,\n          20640.0\n        ],\n        \"semantic_type\": \"\",\n        \"description\": \"\"\n      }\n    },\n    {\n      \"column\": \"Population\",\n      \"properties\": {\n        \"dtype\": \"number\",\n        \"std\": 13192.258841737372,\n        \"min\": 3.0,\n        \"max\": 35682.0,\n        \"num_unique_values\": 8,\n        \"samples\": [\n          1425.4767441860465,\n          1166.0,\n          20640.0\n        ],\n        \"semantic_type\": \"\",\n        \"description\": \"\"\n      }\n    },\n    {\n      \"column\": \"AveOccup\",\n      \"properties\": {\n        \"dtype\": \"number\",\n        \"std\": 7246.392673190071,\n        \"min\": 0.6923076923076923,\n        \"max\": 20640.0,\n        \"num_unique_values\": 8,\n        \"samples\": [\n          3.0706551594363742,\n          2.818115654360196,\n          20640.0\n        ],\n        \"semantic_type\": \"\",\n        \"description\": \"\"\n      }\n    },\n    {\n      \"column\": \"Latitude\",\n      \"properties\": {\n        \"dtype\": \"number\",\n        \"std\": 7286.333552413666,\n        \"min\": 2.1359523974571153,\n        \"max\": 20640.0,\n        \"num_unique_values\": 8,\n        \"samples\": [\n          35.63186143410853,\n          34.26,\n          20640.0\n        ],\n        \"semantic_type\": \"\",\n        \"description\": \"\"\n      }\n    },\n    {\n      \"column\": \"Longitude\",\n      \"properties\": {\n        \"dtype\": \"number\",\n        \"std\": 7333.554670164394,\n        \"min\": -124.35,\n        \"max\": 20640.0,\n        \"num_unique_values\": 8,\n        \"samples\": [\n          -119.56970445736432,\n          -118.49,\n          20640.0\n        ],\n        \"semantic_type\": \"\",\n        \"description\": \"\"\n      }\n    },\n    {\n      \"column\": \"Target\",\n      \"properties\": {\n        \"dtype\": \"number\",\n        \"std\": 7296.634369861169,\n        \"min\": 0.14999,\n        \"max\": 20640.0,\n        \"num_unique_values\": 8,\n        \"samples\": [\n          2.068558169089147,\n          1.797,\n          20640.0\n        ],\n        \"semantic_type\": \"\",\n        \"description\": \"\"\n      }\n    }\n  ]\n}"
            }
          },
          "metadata": {},
          "execution_count": 4
        }
      ]
    },
    {
      "cell_type": "code",
      "source": [
        "# Compute correlation matrix\n",
        "corr_matrix = df.corr()\n",
        "print(corr_matrix['Target'].sort_values(ascending=False))\n",
        "\n",
        "# Plot correlation matrix\n",
        "plt.figure(figsize=(6, 5))\n",
        "import seaborn as sns\n",
        "sns.heatmap(corr_matrix, annot=True, fmt='.1f', cmap='coolwarm')\n",
        "plt.show()"
      ],
      "metadata": {
        "colab": {
          "base_uri": "https://localhost:8080/",
          "height": 697
        },
        "id": "ysDZiyJ2UHG0",
        "outputId": "bc015f96-1c46-4e6a-aa4c-4b4322f0f2d4"
      },
      "execution_count": 5,
      "outputs": [
        {
          "output_type": "stream",
          "name": "stdout",
          "text": [
            "Target        1.000000\n",
            "MedInc        0.688075\n",
            "AveRooms      0.151948\n",
            "HouseAge      0.105623\n",
            "AveOccup     -0.023737\n",
            "Population   -0.024650\n",
            "Longitude    -0.045967\n",
            "AveBedrms    -0.046701\n",
            "Latitude     -0.144160\n",
            "Name: Target, dtype: float64\n"
          ]
        },
        {
          "output_type": "display_data",
          "data": {
            "text/plain": [
              "<Figure size 600x500 with 2 Axes>"
            ],
            "image/png": "[encoded data removed]"
          },
          "metadata": {}
        }
      ]
    },
    {
      "cell_type": "code",
      "source": [
        "scaler = StandardScaler()\n",
        "X_scaled = scaler.fit_transform(X)"
      ],
      "metadata": {
        "id": "COo0DTsjULrh"
      },
      "execution_count": 6,
      "outputs": []
    },
    {
      "cell_type": "code",
      "source": [
        "# Split data into training, validation, and test sets\n",
        "X_train, X_temp, y_train, y_temp = train_test_split(X_scaled, y, test_size=0.5, random_state=42)\n",
        "X_val, X_test, y_val, y_test = train_test_split(X_temp, y_temp, test_size=0.4, random_state=42)"
      ],
      "metadata": {
        "id": "zMbqAjtyUqMO"
      },
      "execution_count": 7,
      "outputs": []
    },
    {
      "cell_type": "markdown",
      "source": [
        "Setting ```self.theta``` to ```None``` instead of ```0``` in a class initialization often indicates that the parameter theta has not yet been initialized or estimated."
      ],
      "metadata": {
        "id": "CwqYmJ51uS7u"
      }
    },
    {
      "cell_type": "code",
      "source": [
        "# Define Linear Regression with Gradient Descent\n",
        "class LinearRegressionGD:\n",
        "    def __init__(self, learning_rate=0.01, iterations=1000):\n",
        "        self.learning_rate = learning_rate\n",
        "        self.iterations = iterations\n",
        "        self.theta = None\n",
        "        self.mse_history_train = []\n",
        "        self.mse_history_val = []\n",
        "\n",
        "    def fit(self, X_train, y_train, X_val, y_val):\n",
        "        # Add intercept term to X\n",
        "        X_train_b = self.add_intercept(X_train)\n",
        "        X_val_b = self.add_intercept(X_val)\n",
        "        m, n = X_train_b.shape\n",
        "        self.theta = np.zeros(n)\n",
        "\n",
        "        # Gradient Descent\n",
        "        for _ in range(self.iterations):\n",
        "            predictions_train = self.predict(X_train_b)\n",
        "            errors_train = predictions_train - y_train\n",
        "            gradients = (2 / m) * X_train_b.T.dot(errors_train)\n",
        "            self.theta -= self.learning_rate * gradients\n",
        "\n",
        "            # Compute and store MSE for training and validation sets\n",
        "            mse_train = self.compute_mse(y_train, predictions_train)\n",
        "            self.mse_history_train.append(mse_train)\n",
        "\n",
        "            predictions_val = self.predict(X_val_b)\n",
        "            mse_val = self.compute_mse(y_val, predictions_val)\n",
        "            self.mse_history_val.append(mse_val)\n",
        "\n",
        "    def predict(self, X):\n",
        "        return X.dot(self.theta)\n",
        "\n",
        "    def compute_mse(self, y_true, y_pred):\n",
        "        return np.mean((y_true - y_pred) ** 2)\n",
        "\n",
        "    def get_mse_history(self):\n",
        "        return self.mse_history_train, self.mse_history_val\n",
        "\n",
        "    def add_intercept(self, X):\n",
        "        return np.c_[np.ones(X.shape[0]), X] # Prepends a column of ones to the array X, often used to add an intercept term to the feature matrix.\n",
        "\n",
        "# Compute parameters using the normal equation\n",
        "def normal_equation(X, y):\n",
        "    X_b = np.c_[np.ones(X.shape[0]), X]  # Add intercept term\n",
        "    return inv(X_b.T.dot(X_b)).dot(X_b.T).dot(y)\n",
        "\n",
        "# Create and fit the model\n",
        "model = LinearRegressionGD(learning_rate=0.01, iterations=1000)\n",
        "model.fit(X_train, y_train, X_val, y_val)\n",
        "\n",
        "# Plot training and validation loss\n",
        "plt.figure(figsize=(4, 3))\n",
        "plt.plot(model.get_mse_history()[0], label='Training Loss')\n",
        "plt.plot(model.get_mse_history()[1], label='Validation Loss', linestyle='--')\n",
        "plt.xlabel('Iterations')\n",
        "plt.ylabel('MSE')\n",
        "plt.legend()\n",
        "plt.title('Training and Validation Loss')\n",
        "plt.show()"
      ],
      "metadata": {
        "colab": {
          "base_uri": "https://localhost:8080/",
          "height": 333
        },
        "id": "XUxi5Yy3ZAkC",
        "outputId": "ae2bb7e2-df96-4be1-ee3f-8aec261b9eca"
      },
      "execution_count": 8,
      "outputs": [
        {
          "output_type": "display_data",
          "data": {
            "text/plain": [
              "<Figure size 400x300 with 1 Axes>"
            ],
            "image/png": "[encoded data removed]"
          },
          "metadata": {}
        }
      ]
    },
    {
      "cell_type": "code",
      "source": [
        "# Evaluate on the test set using gradient descent\n",
        "X_test_b = model.add_intercept(X_test)\n",
        "test_predictions = model.predict(X_test_b)\n",
        "test_mse = model.compute_mse(y_test, test_predictions)\n",
        "print(f'Test MSE (Gradient Descent): {test_mse}')\n",
        "\n",
        "# Compute optimal parameters using normal equation\n",
        "theta_normal = normal_equation(X_train, y_train)\n",
        "\n",
        "# Evaluate on the test set using normal equation\n",
        "X_test_bias = np.c_[np.ones(X_test.shape[0]), X_test]  # Add intercept term to X_test\n",
        "test_predictions_normal = X_test_bias.dot(theta_normal)\n",
        "test_mse_normal = mean_squared_error(y_test, test_predictions_normal)\n",
        "print(f'Test MSE (Normal Equation): {test_mse_normal}')"
      ],
      "metadata": {
        "colab": {
          "base_uri": "https://localhost:8080/"
        },
        "id": "g6Fbi7jzbmb2",
        "outputId": "8f56c9ad-c897-4ac7-aee8-5012b2ba11f6"
      },
      "execution_count": 9,
      "outputs": [
        {
          "output_type": "stream",
          "name": "stdout",
          "text": [
            "Test MSE (Gradient Descent): 0.5324084380556544\n",
            "Test MSE (Normal Equation): 0.524456362872915\n"
          ]
        }
      ]
    },
    {
      "cell_type": "markdown",
      "source": [
        "### **Linear Regression using scikit-learn package**"
      ],
      "metadata": {
        "id": "CjqA_4-YkkyM"
      }
    },
    {
      "cell_type": "code",
      "source": [
        "# Fit a linear regression model\n",
        "linear_model = LinearRegression()\n",
        "linear_model.fit(X_train, y_train)\n",
        "y_pred = linear_model.predict(X_test)\n",
        "mse = mean_squared_error(y_test, y_pred)\n",
        "print(f'MSE with the Original Features: {mse:.4f}')"
      ],
      "metadata": {
        "colab": {
          "base_uri": "https://localhost:8080/"
        },
        "id": "Y4JD9-2Nk3sg",
        "outputId": "c838e805-73ec-4404-de81-92ff2b4b07b5"
      },
      "execution_count": 10,
      "outputs": [
        {
          "output_type": "stream",
          "name": "stdout",
          "text": [
            "MSE with the Original Features: 0.5245\n"
          ]
        }
      ]
    },
    {
      "cell_type": "code",
      "source": [
        "# Illustrate Underfitting (using a random subset of features)\n",
        "np.random.seed(42)\n",
        "feature_indices = np.random.choice(X_train.shape[1], 5, replace=False)# https://numpy.org/doc/stable/reference/random/generated/numpy.random.choice.html\n",
        "X_train_subset = X_train[:, feature_indices]\n",
        "X_test_subset = X_test[:, feature_indices]\n",
        "subset_model = LinearRegression()\n",
        "subset_model.fit(X_train_subset, y_train)\n",
        "y_pred_subset = subset_model.predict(X_test_subset)\n",
        "mse_subset = mean_squared_error(y_test, y_pred_subset)\n",
        "print(f'MSE with Subset of Features: {mse_subset:.4f}')\n",
        "\n",
        "# Illustrate Overfitting (using polynomial features) - https://scikit-learn.org/stable/modules/generated/sklearn.preprocessing.PolynomialFeatures.html\n",
        "poly = PolynomialFeatures(degree=4)\n",
        "X_train_poly = poly.fit_transform(X_train)\n",
        "print(\"Shape of X_train_poly\", X_train_poly.shape)\n",
        "X_test_poly = poly.transform(X_test)\n",
        "poly_model = LinearRegression()\n",
        "poly_model.fit(X_train_poly, y_train)\n",
        "y_pred_poly = poly_model.predict(X_test_poly)\n",
        "mse_poly = mean_squared_error(y_test, y_pred_poly)\n",
        "print(f'MSE with Polynomial Features: {mse_poly:.4f}')\n",
        "\n",
        "# Plotting the results\n",
        "models = ['Original Features', 'Subset of features', 'Polynomial Features']\n",
        "mse_values = [mse, mse_subset, mse_poly]\n",
        "\n",
        "plt.figure(figsize=(6, 3))\n",
        "plt.bar(models, mse_values, color=['blue', 'orange', 'green'])\n",
        "plt.ylabel('Mean Squared Error')\n",
        "plt.title('Model Performance Comparison')\n",
        "plt.show()"
      ],
      "metadata": {
        "colab": {
          "base_uri": "https://localhost:8080/",
          "height": 368
        },
        "id": "p8shBAt9cBwb",
        "outputId": "a93f0faf-89e1-448e-f46f-2302accfbad3"
      },
      "execution_count": 11,
      "outputs": [
        {
          "output_type": "stream",
          "name": "stdout",
          "text": [
            "MSE with Subset of Features: 0.6493\n",
            "Shape of X_train_poly (10320, 495)\n",
            "MSE with Polynomial Features: 1.0924\n"
          ]
        },
        {
          "output_type": "display_data",
          "data": {
            "text/plain": [
              "<Figure size 600x300 with 1 Axes>"
            ],
            "image/png": "[encoded data removed]"
          },
          "metadata": {}
        }
      ]
    },
    {
      "cell_type": "code",
      "source": [
        "X_train.shape[1]"
      ],
      "metadata": {
        "colab": {
          "base_uri": "https://localhost:8080/"
        },
        "id": "f3bK3b1RBOCp",
        "outputId": "f470cac7-b5c6-4e1b-f5b7-a53fefbce2e8"
      },
      "execution_count": 12,
      "outputs": [
        {
          "output_type": "execute_result",
          "data": {
            "text/plain": [
              "8"
            ]
          },
          "metadata": {},
          "execution_count": 12
        }
      ]
    },
    {
      "cell_type": "code",
      "source": [
        "feature_indices"
      ],
      "metadata": {
        "colab": {
          "base_uri": "https://localhost:8080/"
        },
        "id": "RcSdiwGABCa9",
        "outputId": "c28dc3f5-837e-47b4-aa0b-6bc29e486ef9"
      },
      "execution_count": 13,
      "outputs": [
        {
          "output_type": "execute_result",
          "data": {
            "text/plain": [
              "array([1, 5, 0, 7, 2])"
            ]
          },
          "metadata": {},
          "execution_count": 13
        }
      ]
    },
    {
      "cell_type": "markdown",
      "source": [
        "## **Assignment - 2**"
      ],
      "metadata": {
        "id": "2obWuz-MoaRY"
      }
    },
    {
      "cell_type": "markdown",
      "source": [
        "####  **Objective** - Classify emails as spam or not spam using the [Spambase](https://archive.ics.uci.edu/static/public/94/data.csv) dataset, which contains the frequency of occurrence of 57 entities (words and characters) (in %) from 4601 spam and non-spam emails and corresponding class labels.  "
      ],
      "metadata": {
        "id": "foH-2NsSoiKg"
      }
    },
    {
      "cell_type": "markdown",
      "source": [
        "Spam Classification with Logistic Regression\n",
        "\n",
        "<font color='blue'>Task 1: Load the Spambase Dataset</font> [Marks - 1]\n",
        "\n",
        "- Load the Spambase dataset using Pandas.\n",
        "- Display the first few rows to understand the structure of the data.\n",
        "\n",
        "<font color='blue'>Task 2: Check for Duplicate Entries and Missing Values</font> [Marks - 1]\n",
        "\n",
        "- Check if there are duplicate entries in the dataset.\n",
        "- Remove any duplicate entries.\n",
        "- Check for missing values in the dataset.\n",
        "- Remove entries with missing feature values.\n",
        "\n",
        "<font color='blue'>Task 3: Preprocess the Dataset</font> [Marks - 1]\n",
        "\n",
        "- Preprocess the dataset as required:\n",
        "- Perform feature scaling or standardization on the features.\n",
        "\n",
        "<font color='blue'>Task 4: Check Dataset Balance</font> [Marks - 1]\n",
        "\n",
        "- Determine if the dataset is balanced or imbalanced by analyzing the distribution of the target variable.\n",
        "\n",
        "<font color='blue'>Task 5: Split the Data</font> [Marks - 1]\n",
        "\n",
        "- Split the data into training, validation, and test sets with the following proportions:\n",
        "  - Training set: 70%\n",
        "  - Validation set: 15%\n",
        "  - Test set: 15%\n",
        "\n"
      ],
      "metadata": {
        "id": "I0L70hwKo64m"
      }
    },
    {
      "cell_type": "markdown",
      "source": [
        "<font color='blue'>Task 6: Implement Logistic Regression from Scratch</font> [Marks - 8]\n",
        "\n",
        "- Implement a logistic regression model from scratch using:\n",
        "  - Cross-entropy loss as the cost function.\n",
        "  - Gradient descent as the learning algorithm.\n",
        "  - L1 regularization in the cost function.\n",
        "- Train the logistic regression model using gradient descent.\n",
        "- Choose appropriate values for the learning rate and regularization parameter through cross-validation.\n",
        "\n",
        "<font color='blue'>Task 7: Evaluate Model Performance</font> [Marks - 2]\n",
        "\n",
        "- Evaluate the performance of your logistic regression model on the test set using:\n",
        "  - Confusion matrix.\n",
        "  - Precision.\n",
        "  - Recall.\n",
        "  - Area under the Precision-Recall Curve (AUC-PR).\n"
      ],
      "metadata": {
        "id": "2bFoyq8irZkr"
      }
    },
    {
      "cell_type": "markdown",
      "source": [
        "<font color='blue'>Task 8: Compare with Scikit-Learn</font> [Marks - 5]\n",
        "\n",
        "- Fit a logistic regression model using scikit-learn.\n",
        "- Compare the performance of your implementation with the scikit-learn model by evaluating:\n",
        "  - Confusion matrix.\n",
        "  - Precision.\n",
        "  - Recall.\n",
        "  - Area under the Precision-Recall Curve (AUC-PR).\n",
        "- Compare the AUC-PR values between your implementation and scikit-learn's implementation."
      ],
      "metadata": {
        "id": "jlD-XZykrtXB"
      }
    },
    {
      "cell_type": "code",
      "source": [
        "# !pip install ucimlrepo"
      ],
      "metadata": {
        "id": "Yn1tOkEChYdd"
      },
      "execution_count": 14,
      "outputs": []
    },
    {
      "cell_type": "code",
      "source": [
        "# from ucimlrepo import fetch_ucirepo\n",
        "\n",
        "# # fetch dataset\n",
        "# spambase = fetch_ucirepo(id=94)\n",
        "\n",
        "# # data (as pandas dataframes)\n",
        "# X = spambase.data.features\n",
        "# y = spambase.data.targets\n",
        "\n",
        "# # metadata\n",
        "# print(spambase.metadata)\n",
        "\n",
        "# # variable information\n",
        "# print(spambase.variables)"
      ],
      "metadata": {
        "id": "H2s4ILEIhaOj"
      },
      "execution_count": 15,
      "outputs": []
    },
    {
      "cell_type": "code",
      "source": [
        "# df = pd.read_csv(\"https://archive.ics.uci.edu/static/public/94/data.csv\")"
      ],
      "metadata": {
        "id": "WDtgL_yuhidO"
      },
      "execution_count": 16,
      "outputs": []
    }
  ]
}